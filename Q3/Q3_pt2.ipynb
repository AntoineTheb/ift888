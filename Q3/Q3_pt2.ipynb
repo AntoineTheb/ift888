{
 "cells": [
  {
   "cell_type": "markdown",
   "metadata": {},
   "source": [
    "# IFT888 - Question 3 partie 3\n",
    "\n",
    "* Distance de levenshtein\n"
   ]
  },
  {
   "cell_type": "code",
   "execution_count": 8,
   "metadata": {},
   "outputs": [],
   "source": [
    "import numpy as np\n",
    "from typing import List, Tuple"
   ]
  },
  {
   "cell_type": "markdown",
   "metadata": {},
   "source": [
    "Premièrement, définissons la distance de Levenshtein de façon récursive:"
   ]
  },
  {
   "cell_type": "code",
   "execution_count": 9,
   "metadata": {},
   "outputs": [],
   "source": [
    "def levenshtein_recursive(a, b):\n",
    "    if len(b) == 0:\n",
    "        return len(a)\n",
    "    if len(a) == 0:\n",
    "        return len(b)\n",
    "    if a[0] == b[0]:\n",
    "        return levenshtein_recursive(a[1:], b[1:])\n",
    "    return 1 + min(\n",
    "        levenshtein_recursive(a[1:], b), \n",
    "        levenshtein_recursive(a, b[1:]), \n",
    "        levenshtein_recursive(a[1:], b[1:]))"
   ]
  },
  {
   "cell_type": "code",
   "execution_count": 10,
   "metadata": {},
   "outputs": [
    {
     "name": "stdout",
     "output_type": "stream",
     "text": [
      "2\n"
     ]
    }
   ],
   "source": [
    "a = '01010'\n",
    "b = '01101'\n",
    "print(levenshtein_recursive(a, b))"
   ]
  },
  {
   "cell_type": "markdown",
   "metadata": {},
   "source": [
    "Maintenant, définissons la distance de Levenshtein avec l'algorithme X de Wagner-Fischer:"
   ]
  },
  {
   "cell_type": "code",
   "execution_count": 11,
   "metadata": {},
   "outputs": [],
   "source": [
    "def cost(x, y):\n",
    "    return 1 if x != y else 0\n",
    "\n",
    "def levenshtein_memoized(a, b):\n",
    "    m, n = len(a) + 1, len(b) + 1\n",
    "    D = np.zeros((m, n), dtype=np.int)\n",
    "    for i in range(1, m):\n",
    "        D[i, 0] = D[i-1, 0] + cost(a[i-1], None)\n",
    "\n",
    "    for j in range(1, n):\n",
    "        D[0, j] = D[0, j-1] + cost(None, b[j-1])\n",
    "    for j in range(1, n):\n",
    "        for i in range(1, m):\n",
    "            m1 = D[i-1, j] + cost(a[i-1], None)\n",
    "            m2 = D[i, j-1] + cost(None, b[j-1])\n",
    "            m3 = D[i-1, j-1] + cost(a[i-1], b[j-1])\n",
    "            D[i, j] = min(m1, m2, m3)\n",
    "    return D[m-1, n-1], D"
   ]
  },
  {
   "cell_type": "code",
   "execution_count": 12,
   "metadata": {},
   "outputs": [
    {
     "name": "stdout",
     "output_type": "stream",
     "text": [
      "[[0 1 2 3 4 5]\n",
      " [1 0 1 2 3 4]\n",
      " [2 1 0 1 2 3]\n",
      " [3 2 1 1 1 2]\n",
      " [4 3 2 1 2 1]\n",
      " [5 4 3 2 1 2]]\n",
      "2\n"
     ]
    }
   ],
   "source": [
    "a = '01010'\n",
    "b = '01101'\n",
    "# a = 'sitting'\n",
    "# b = 'kitten'\n",
    "distance, D = levenshtein_memoized(a, b)\n",
    "print(D)\n",
    "print(distance)"
   ]
  },
  {
   "cell_type": "markdown",
   "metadata": {},
   "source": [
    "L'algorithme X permet d'obtenir la distance, mais l'algorithme Y est requis pour obtenir la \"trace\":"
   ]
  },
  {
   "cell_type": "code",
   "execution_count": 13,
   "metadata": {},
   "outputs": [],
   "source": [
    "def levensthein_trace(D: np.ndarray, a: str, b: str) -> Tuple[List, str]:\n",
    "    i, j = len(a), len(b)\n",
    "    a_ = list(a)\n",
    "    ops = []\n",
    "    while i and j:\n",
    "        if D[i,j] == D[i-1, j] + cost(a[i-1], None):\n",
    "            ops += [\"Supprésion de {} en position {}\".format(a[i-1], i)]\n",
    "            del a_[i-1]\n",
    "            i -= 1\n",
    "        elif D[i,j] == D[i, j-1] + cost(None, b[j-1]):\n",
    "            ops += [\"Ajout de {} en position {} \".format(b[j-1], i)]\n",
    "            a_.insert(i-1, b[j-1])\n",
    "            j -= 1\n",
    "        else:\n",
    "            if a[i-1] != b[j-1]:\n",
    "                ops += [\"Subsitution de {} par {} en position {}\".format(a[i-1], b[j-1], i)]\n",
    "                a_[i-1] = b[j-1]\n",
    "            i -= 1\n",
    "            j -= 1\n",
    "    return ops[::-1], ''.join(a_)"
   ]
  },
  {
   "cell_type": "code",
   "execution_count": 14,
   "metadata": {},
   "outputs": [
    {
     "name": "stdout",
     "output_type": "stream",
     "text": [
      "La chaîne de départ est \"01010\"\n",
      "Ajout de 1 en position 2 \n",
      "Supprésion de 0 en position 5\n",
      "La chaîne finale est \"01101\"\n"
     ]
    }
   ],
   "source": [
    "print('La chaîne de départ est \"{}\"'.format(a))\n",
    "ops, a_ = levensthein_trace(D, a, b)\n",
    "for o in ops:\n",
    "    print(o)\n",
    "print('La chaîne finale est \"{}\"'.format(a_))"
   ]
  }
 ],
 "metadata": {
  "kernelspec": {
   "display_name": "Python 3 (ipykernel)",
   "language": "python",
   "name": "python3"
  },
  "language_info": {
   "codemirror_mode": {
    "name": "ipython",
    "version": 3
   },
   "file_extension": ".py",
   "mimetype": "text/x-python",
   "name": "python",
   "nbconvert_exporter": "python",
   "pygments_lexer": "ipython3",
   "version": "3.8.10"
  }
 },
 "nbformat": 4,
 "nbformat_minor": 2
}
